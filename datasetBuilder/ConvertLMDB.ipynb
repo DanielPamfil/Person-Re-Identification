{
  "nbformat": 4,
  "nbformat_minor": 0,
  "metadata": {
    "colab": {
      "provenance": []
    },
    "kernelspec": {
      "name": "python3",
      "display_name": "Python 3"
    },
    "language_info": {
      "name": "python"
    }
  },
  "cells": [
    {
      "cell_type": "code",
      "execution_count": null,
      "metadata": {
        "colab": {
          "base_uri": "https://localhost:8080/"
        },
        "id": "JcBcoDNe3eUt",
        "outputId": "a8a4327e-4db3-4817-8e7f-4c13ed496807"
      },
      "outputs": [
        {
          "output_type": "stream",
          "name": "stderr",
          "text": [
            "<ipython-input-3-acba92c97d65>:21: DeprecationWarning: an integer is required (got type float).  Implicit conversion to integers using __int__ is deprecated, and may be removed in a future version of Python.\n",
            "  env = lmdb.open(lmdb_dir, map_size=1e12)\n"
          ]
        },
        {
          "output_type": "stream",
          "name": "stdout",
          "text": [
            "[  0|  1] country=argentina, [0|1] city=buenos_aires, [  1|  3] vid=0aGt5HKP_FI, [0|31] name=000017_0000181_00.jpg\n"
          ]
        },
        {
          "output_type": "stream",
          "name": "stderr",
          "text": [
            "<ipython-input-3-acba92c97d65>:50: DeprecationWarning: The binary mode of fromstring is deprecated, as it behaves surprisingly on unicode inputs. Use frombuffer instead\n",
            "  im = np.fromstring(im_str, np.uint8)\n"
          ]
        }
      ],
      "source": [
        "import os\n",
        "import numpy as np\n",
        "import cv2\n",
        "import lmdb\n",
        "import pickle\n",
        "\n",
        "\n",
        "# Setting the paths for the base directory of images and the directory to save the LMDB\n",
        "base_imgs_dir = \"YOUR PATH/people\"\n",
        "save_dir = \"YOUR PATH/LMDB\"\n",
        "\n",
        "# Creating the save_dir directory if it does not exist\n",
        "if not os.path.exists(save_dir): os.makedirs(save_dir)\n",
        "# Creating the path for the LMDB directory\n",
        "lmdb_dir = os.path.join(save_dir, 'lmdb')\n",
        "# Creating the path for the keys file to store the keys and person IDs\n",
        "key_path = os.path.join(save_dir, 'keys.pkl')\n",
        "# Setting the base_dir equal to base_imgs_dir\n",
        "base_dir = base_imgs_dir\n",
        "# Creating the lmdb_dir directory if it does not exist\n",
        "if not os.path.exists(lmdb_dir): os.makedirs(lmdb_dir)\n",
        "\n",
        "# Initializing the lists to store keys, names of videos, and person IDs\n",
        "keys = []\n",
        "vnames = []\n",
        "pids = []\n",
        "# Opening an LMDB environment for writing\n",
        "env = lmdb.open(lmdb_dir, map_size=1e12)\n",
        "# Starting a write transaction\n",
        "txn = env.begin(write=True)\n",
        "# Starting a write transaction\n",
        "cnt = 0\n",
        "vid_cnt = 0\n",
        "# Sorting the countries in the base directory\n",
        "countries = sorted(os.listdir(base_dir))\n",
        "# Loop through the countries\n",
        "for i, country in enumerate(countries):\n",
        "    # Creating the path for the current city\n",
        "    city_dir = os.path.join(base_dir, country)\n",
        "    # Sorting the cities in the current country\n",
        "    cities = sorted(os.listdir(city_dir))\n",
        "    # Loop through the cities\n",
        "    for j, city in enumerate(cities):\n",
        "        # Creating the path for the current video directory\n",
        "        vid_dir = os.path.join(city_dir, city)\n",
        "        # Sorting the videos in the current city\n",
        "        vids = sorted(os.listdir(vid_dir))\n",
        "        # Loop through the videos\n",
        "        for k, vid in enumerate(vids):\n",
        "            # Skip the video if it has already been processed\n",
        "            if vid in vnames: continue\n",
        "            # Adding the current video name to the vnames list\n",
        "            vnames.append(vid)\n",
        "            # Incrementing the video counter\n",
        "            vid_cnt += 1\n",
        "            # Creating a string for the current video key\n",
        "            key_vid = '{:05d}'.format(vid_cnt)\n",
        "            # Creating the path for the current image directory\n",
        "            im_dir = os.path.join(vid_dir, vid)\n",
        "            # Sort the names of the images and only select those that end with \"jpg\"\n",
        "            names = sorted([x for x in os.listdir(im_dir) if x.endswith('jpg')])\n",
        "            # Loop through the images\n",
        "            for m, name in enumerate(names):\n",
        "                # Print the current image processing status\n",
        "                if cnt % 2000 == 0:\n",
        "                    print('[{:3d}|{:3d}] country={:s}, [{:d}|{:d}] city={:s}, ' \\\n",
        "                        '[{:3d}|{:3d}] vid={:s}, [{:d}|{:d}] name={:s}'.format(i,\n",
        "                            len(countries), country, j, len(cities), city, k, len(vids),\n",
        "                            vid, m, len(names), name))\n",
        "                # Create the key for the current image\n",
        "                key = key_vid + '_' + name[:-4]\n",
        "                # Extract the person ID from the name of the image\n",
        "                pid = int(name.split('_')[0])\n",
        "                # Create the path to the current image\n",
        "                im_path = os.path.join(im_dir, name)\n",
        "                # Open the current image\n",
        "                with open(im_path, 'rb') as f:\n",
        "                    im_str = f.read()\n",
        "                im = np.fromstring(im_str, np.uint8)\n",
        "                # Add the image key, person ID, and image data to the respective lists\n",
        "                keys.append(key)\n",
        "                pids.append(pid)\n",
        "                # Convert the key to bytes\n",
        "                key_byte = key.encode('ascii')\n",
        "                # Store the image data in the LMDB transaction\n",
        "                txn.put(key_byte, im)\n",
        "                # Increment the count of processed images\n",
        "                cnt += 1\n",
        "        # Commit the LMDB transaction\n",
        "        txn.commit()\n",
        "        # Start a new LMDB transaction\n",
        "        txn = env.begin(write=True)\n",
        "    # Commit the transaction and close the LMDB environment\n",
        "    txn.commit()\n",
        "    env.close()\n",
        "\n",
        "    # Store the lists of keys and person IDs in a pickle file\n",
        "    with open(key_path, 'wb') as f:\n",
        "        pickle.dump({\"keys\": keys, \"pids\":pids}, f)"
      ]
    }
  ]
}