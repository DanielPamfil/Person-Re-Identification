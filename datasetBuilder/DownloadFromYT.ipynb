{
  "nbformat": 4,
  "nbformat_minor": 0,
  "metadata": {
    "colab": {
      "provenance": []
    },
    "kernelspec": {
      "name": "python3",
      "display_name": "Python 3"
    },
    "language_info": {
      "name": "python"
    }
  },
  "cells": [
    {
      "cell_type": "code",
      "source": [
        "!python -m pip install -U yt-dlp"
      ],
      "metadata": {
        "colab": {
          "base_uri": "https://localhost:8080/"
        },
        "id": "qOJtuWKbyGuN",
        "outputId": "974cc1dc-76e1-4825-ae28-2d77ed00f082"
      },
      "execution_count": null,
      "outputs": [
        {
          "output_type": "stream",
          "name": "stdout",
          "text": [
            "Looking in indexes: https://pypi.org/simple, https://us-python.pkg.dev/colab-wheels/public/simple/\n",
            "Collecting yt-dlp\n",
            "  Downloading yt_dlp-2023.1.6-py2.py3-none-any.whl (2.8 MB)\n",
            "\u001b[2K     \u001b[90m━━━━━━━━━━━━━━━━━━━━━━━━━━━━━━━━━━━━━━━━\u001b[0m \u001b[32m2.8/2.8 MB\u001b[0m \u001b[31m27.6 MB/s\u001b[0m eta \u001b[36m0:00:00\u001b[0m\n",
            "\u001b[?25hCollecting mutagen\n",
            "  Downloading mutagen-1.46.0-py3-none-any.whl (193 kB)\n",
            "\u001b[2K     \u001b[90m━━━━━━━━━━━━━━━━━━━━━━━━━━━━━━━━━━━━━━\u001b[0m \u001b[32m193.6/193.6 KB\u001b[0m \u001b[31m26.4 MB/s\u001b[0m eta \u001b[36m0:00:00\u001b[0m\n",
            "\u001b[?25hCollecting websockets\n",
            "  Downloading websockets-10.4-cp38-cp38-manylinux_2_5_x86_64.manylinux1_x86_64.manylinux_2_17_x86_64.manylinux2014_x86_64.whl (106 kB)\n",
            "\u001b[2K     \u001b[90m━━━━━━━━━━━━━━━━━━━━━━━━━━━━━━━━━━━━━━\u001b[0m \u001b[32m107.0/107.0 KB\u001b[0m \u001b[31m15.1 MB/s\u001b[0m eta \u001b[36m0:00:00\u001b[0m\n",
            "\u001b[?25hCollecting pycryptodomex\n",
            "  Downloading pycryptodomex-3.16.0-cp35-abi3-manylinux_2_5_x86_64.manylinux1_x86_64.manylinux_2_12_x86_64.manylinux2010_x86_64.whl (2.3 MB)\n",
            "\u001b[2K     \u001b[90m━━━━━━━━━━━━━━━━━━━━━━━━━━━━━━━━━━━━━━━━\u001b[0m \u001b[32m2.3/2.3 MB\u001b[0m \u001b[31m64.3 MB/s\u001b[0m eta \u001b[36m0:00:00\u001b[0m\n",
            "\u001b[?25hCollecting brotli\n",
            "  Downloading Brotli-1.0.9-cp38-cp38-manylinux1_x86_64.whl (357 kB)\n",
            "\u001b[2K     \u001b[90m━━━━━━━━━━━━━━━━━━━━━━━━━━━━━━━━━━━━━━\u001b[0m \u001b[32m357.2/357.2 KB\u001b[0m \u001b[31m36.1 MB/s\u001b[0m eta \u001b[36m0:00:00\u001b[0m\n",
            "\u001b[?25hRequirement already satisfied: certifi in /usr/local/lib/python3.8/dist-packages (from yt-dlp) (2022.12.7)\n",
            "Installing collected packages: brotli, websockets, pycryptodomex, mutagen, yt-dlp\n",
            "Successfully installed brotli-1.0.9 mutagen-1.46.0 pycryptodomex-3.16.0 websockets-10.4 yt-dlp-2023.1.6\n"
          ]
        }
      ]
    },
    {
      "cell_type": "markdown",
      "source": [
        "**Download video from YT**"
      ],
      "metadata": {
        "id": "NzbMt6juxu14"
      }
    },
    {
      "cell_type": "code",
      "execution_count": null,
      "metadata": {
        "colab": {
          "base_uri": "https://localhost:8080/"
        },
        "id": "h4UCXWtXxTuX",
        "outputId": "2b8cf07b-69ad-43e5-f6a3-d2fdf8c1ca00"
      },
      "outputs": [
        {
          "output_type": "stream",
          "name": "stderr",
          "text": [
            "  0%|          | 10/21697 [00:54<16:18:56,  2.71s/it]"
          ]
        }
      ],
      "source": [
        "import os\n",
        "import numpy as np\n",
        "from tqdm import tqdm\n",
        "\n",
        "def download_one_video(vid, save_dir, save_name=None):\n",
        "    # Construct the URL of the video\n",
        "    url = \"https://www.youtube.com/watch?v=\" + vid\n",
        "\n",
        "    # If a custom save name is not provided, use the video ID as the save name\n",
        "    if save_name is None:\n",
        "        save_name = vid\n",
        "    # Construct the full file path to save the video\n",
        "    fpath = os.path.join(save_dir, save_name + '\".%(ext)s\"')\n",
        "    # Check if the video has already been downloaded and return if it has\n",
        "    if os.path.exists(fpath.replace('\".%(ext)s\"', '.mp4')):\n",
        "        return\n",
        "    # Construct the shell command to download the video using yt-dlp\n",
        "    cmd = 'yt-dlp -o {:s} -f \"bestvideo[ext=mp4][height<=?720][filesize<=500M]/best[height<=?720][filesize<=500M]\" {:s}'.format(fpath, url)\n",
        "    # Execute the shell command\n",
        "    os.system(cmd)\n",
        "\n",
        "\n",
        "# The path to the file that contains the names of the videos to download\n",
        "name_file = \"YOUR PATH/vnames.txt\"\n",
        "# The root directory to save the videos\n",
        "dir = \"YOUR PATH/video\"\n",
        "# Check if the video name records file exists, raise an error if it doesn't\n",
        "if not os.path.isfile(name_file):\n",
        "    raise IOError(f'video name records file: {name_file} does not exist')\n",
        "# Open the video name records file and read in the video names\n",
        "with open(name_file, 'r') as f:\n",
        "    lines = f.readlines()\n",
        "    # Strip the newline characters from the end of each line\n",
        "    lines = [line.strip() for line in lines]\n",
        "# Loop over the video names, download the videos, and save them to disk\n",
        "for item in tqdm(lines):\n",
        "    # Split the video name into country, city, and video ID\n",
        "    country, city, vid = item.split('+')\n",
        "    # Construct the directory to save the video\n",
        "    save_dir = os.path.join(dir, country, city)\n",
        "    # If the save directory doesn't exist, create it\n",
        "    if not os.path.exists(save_dir):\n",
        "        os.makedirs(save_dir)\n",
        "    # Call the function to download the video\n",
        "    download_one_video(vid, save_dir, save_name=item)"
      ]
    }
  ]
}